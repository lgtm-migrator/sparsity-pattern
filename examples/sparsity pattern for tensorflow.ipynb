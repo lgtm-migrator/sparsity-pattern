{
 "cells": [
  {
   "cell_type": "code",
   "execution_count": 1,
   "metadata": {},
   "outputs": [],
   "source": [
    "import sys\n",
    "sys.path.append('..')"
   ]
  },
  {
   "cell_type": "code",
   "execution_count": 2,
   "metadata": {},
   "outputs": [],
   "source": [
    "import sparsity_pattern as spat\n",
    "import tensorflow as tf"
   ]
  },
  {
   "cell_type": "markdown",
   "metadata": {},
   "source": [
    "# Step 1\n",
    "We want to create 10x12 matrix"
   ]
  },
  {
   "cell_type": "code",
   "execution_count": 3,
   "metadata": {},
   "outputs": [],
   "source": [
    "n_rows, n_cols = 10, 12"
   ]
  },
  {
   "cell_type": "markdown",
   "metadata": {},
   "source": [
    "Create a `'circle'` pattern"
   ]
  },
  {
   "cell_type": "code",
   "execution_count": 4,
   "metadata": {},
   "outputs": [
    {
     "name": "stdout",
     "output_type": "stream",
     "text": [
      "Sparsity Pattern:\n",
      "[(0, 2), (0, 3), (0, 5), (0, 6), (0, 8), (0, 9), (1, 0), (1, 3), (1, 4), (1, 6), (1, 7), (1, 9), (2, 0), (2, 1), (2, 4), (2, 5), (2, 7), (2, 8), (3, 1), (3, 2), (3, 5), (3, 6), (3, 8), (3, 9), (4, 0), (4, 2), (4, 3), (4, 6), (4, 7), (4, 9), (5, 0), (5, 1), (5, 3), (5, 4), (5, 7), (5, 8), (6, 1), (6, 2), (6, 4), (6, 5), (6, 8), (6, 9), (7, 0), (7, 2), (7, 3), (7, 5), (7, 6), (7, 9), (8, 0), (8, 1), (8, 3), (8, 4), (8, 6), (8, 7), (9, 1), (9, 2), (9, 4), (9, 5), (9, 7), (9, 8)]\n",
      "Number of elements: 60\n"
     ]
    }
   ],
   "source": [
    "n_dim = min(n_rows, n_cols)\n",
    "idx = spat.get('circle', n_dim, offsets=[1, 2, 4, 5, 7, 8])\n",
    "\n",
    "print(\"Sparsity Pattern:\")\n",
    "print(idx)\n",
    "\n",
    "n_elements = len(idx)\n",
    "print(f\"Number of elements: {n_elements}\")"
   ]
  },
  {
   "cell_type": "markdown",
   "metadata": {},
   "source": [
    "# Step 2\n",
    "Create a sparse tensor, and assign the numbers `[1, 2, ..., 30]`."
   ]
  },
  {
   "cell_type": "code",
   "execution_count": 5,
   "metadata": {},
   "outputs": [
    {
     "name": "stdout",
     "output_type": "stream",
     "text": [
      "tf.Tensor(\n",
      "[[ 0  0  1  2  0  3  4  0  5  6  0  0]\n",
      " [ 7  0  0  8  9  0 10 11  0 12  0  0]\n",
      " [13 14  0  0 15 16  0 17 18  0  0  0]\n",
      " [ 0 19 20  0  0 21 22  0 23 24  0  0]\n",
      " [25  0 26 27  0  0 28 29  0 30  0  0]\n",
      " [31 32  0 33 34  0  0 35 36  0  0  0]\n",
      " [ 0 37 38  0 39 40  0  0 41 42  0  0]\n",
      " [43  0 44 45  0 46 47  0  0 48  0  0]\n",
      " [49 50  0 51 52  0 53 54  0  0  0  0]\n",
      " [ 0 55 56  0 57 58  0 59 60  0  0  0]], shape=(10, 12), dtype=int32)\n"
     ]
    }
   ],
   "source": [
    "idx = tf.convert_to_tensor(idx, dtype=tf.int64)\n",
    "\n",
    "mat = tf.sparse.SparseTensor(\n",
    "    dense_shape=(n_rows, n_cols),\n",
    "    indices=idx,\n",
    "    values=range(1, n_elements+1)\n",
    ")\n",
    "\n",
    "print(tf.sparse.to_dense(mat))"
   ]
  },
  {
   "cell_type": "code",
   "execution_count": null,
   "metadata": {},
   "outputs": [],
   "source": []
  }
 ],
 "metadata": {
  "kernelspec": {
   "display_name": "Python 3",
   "language": "python",
   "name": "python3"
  },
  "language_info": {
   "codemirror_mode": {
    "name": "ipython",
    "version": 3
   },
   "file_extension": ".py",
   "mimetype": "text/x-python",
   "name": "python",
   "nbconvert_exporter": "python",
   "pygments_lexer": "ipython3",
   "version": "3.6.3"
  }
 },
 "nbformat": 4,
 "nbformat_minor": 4
}
