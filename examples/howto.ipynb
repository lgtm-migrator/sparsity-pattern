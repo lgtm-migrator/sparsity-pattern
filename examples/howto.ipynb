{
 "cells": [
  {
   "cell_type": "code",
   "execution_count": 1,
   "metadata": {
    "ExecuteTime": {
     "end_time": "2018-09-18T08:12:38.232692Z",
     "start_time": "2018-09-18T08:12:38.223700Z"
    }
   },
   "outputs": [],
   "source": [
    "import sys\n",
    "sys.path.append('..')"
   ]
  },
  {
   "cell_type": "code",
   "execution_count": 2,
   "metadata": {
    "ExecuteTime": {
     "end_time": "2018-09-18T08:12:38.249524Z",
     "start_time": "2018-09-18T08:12:38.237886Z"
    }
   },
   "outputs": [],
   "source": [
    "import sparsity_pattern as spat\n",
    "import scipy.sparse\n",
    "import numpy as np\n",
    "from typing import List\n",
    "\n",
    "def print_matrix(idx: List[List[int]], n_rows, n_cols):\n",
    "    # convert to matrix\n",
    "    if len(idx):\n",
    "        mat = scipy.sparse.lil_matrix((n_rows, n_cols), dtype=np.int64)\n",
    "        idx_rows, idx_cols = np.array(idx)[:, 0], np.array(idx)[:, 1]\n",
    "        mat[idx_rows, idx_cols] = 1\n",
    "    # print\n",
    "    print(\"Sparsity Pattern:\")\n",
    "    print(idx)\n",
    "    if len(idx):\n",
    "        print(\"Matrix:\")\n",
    "        print(mat.todense())"
   ]
  },
  {
   "cell_type": "markdown",
   "metadata": {},
   "source": [
    "# `'dense'` (all elements)\n",
    "The sparsity pattern for a dense matrix contains all possible row/column combinations."
   ]
  },
  {
   "cell_type": "code",
   "execution_count": 3,
   "metadata": {},
   "outputs": [
    {
     "name": "stdout",
     "output_type": "stream",
     "text": [
      "Sparsity Pattern:\n",
      "[(0, 0), (0, 1), (0, 2), (1, 0), (1, 1), (1, 2), (2, 0), (2, 1), (2, 2)]\n",
      "Matrix:\n",
      "[[1 1 1]\n",
      " [1 1 1]\n",
      " [1 1 1]]\n"
     ]
    }
   ],
   "source": [
    "# quadratic dense matrix\n",
    "idx = spat.get(\"dense\", 3)\n",
    "\n",
    "print_matrix(idx, 3, 3)"
   ]
  },
  {
   "cell_type": "code",
   "execution_count": 4,
   "metadata": {},
   "outputs": [
    {
     "name": "stdout",
     "output_type": "stream",
     "text": [
      "Sparsity Pattern:\n",
      "[(0, 0), (0, 1), (0, 2), (1, 0), (1, 1), (1, 2)]\n",
      "Matrix:\n",
      "[[1 1 1]\n",
      " [1 1 1]]\n"
     ]
    }
   ],
   "source": [
    "# 2x3 dense matrix\n",
    "idx = spat.get(\"dense\", r=2, c=3)\n",
    "\n",
    "print_matrix(idx, 2, 3)"
   ]
  },
  {
   "cell_type": "code",
   "execution_count": 5,
   "metadata": {},
   "outputs": [
    {
     "name": "stdout",
     "output_type": "stream",
     "text": [
      "Sparsity Pattern:\n",
      "[(0, 0), (0, 1), (0, 2), (1, 0), (1, 1), (1, 2), (2, 0), (2, 1), (2, 2), (3, 0), (3, 1), (3, 2)]\n",
      "Matrix:\n",
      "[[1 1 1]\n",
      " [1 1 1]\n",
      " [1 1 1]\n",
      " [1 1 1]]\n"
     ]
    }
   ],
   "source": [
    "# 4x3 dense matrix\n",
    "idx = spat.get(\"dense\", 4, 3)\n",
    "\n",
    "print_matrix(idx, 4, 3)"
   ]
  },
  {
   "cell_type": "markdown",
   "metadata": {},
   "source": [
    "# `'diag'` (Diagonal elements only)\n",
    "A diagonal matrix has only elements $e_{ii}$\n",
    "\n",
    "$$\n",
    "\\begin{bmatrix}\n",
    "e_{11} & 0 & \\cdots & 0\\\\\n",
    "0 & e_{22} & \\cdots & 0\\\\\n",
    "\\vdots & \\vdots & \\ddots & \\vdots\\\\\n",
    "0 & 0 & \\cdots & e_{nn}\\\\\n",
    "\\end{bmatrix}\n",
    "$$\n",
    "\n",
    "The diagonal matrix usually refers to quadratic matrices"
   ]
  },
  {
   "cell_type": "code",
   "execution_count": 6,
   "metadata": {},
   "outputs": [
    {
     "name": "stdout",
     "output_type": "stream",
     "text": [
      "Sparsity Pattern:\n",
      "[(0, 0), (1, 1), (2, 2)]\n",
      "Matrix:\n",
      "[[1 0 0]\n",
      " [0 1 0]\n",
      " [0 0 1]]\n"
     ]
    }
   ],
   "source": [
    "idx = spat.get(\"diag\", 3)\n",
    "\n",
    "print_matrix(idx, 3, 3)"
   ]
  },
  {
   "cell_type": "markdown",
   "metadata": {},
   "source": [
    "However, we can generate bigger matrices too"
   ]
  },
  {
   "cell_type": "code",
   "execution_count": 7,
   "metadata": {},
   "outputs": [
    {
     "name": "stdout",
     "output_type": "stream",
     "text": [
      "Sparsity Pattern:\n",
      "[(0, 0), (1, 1), (2, 2)]\n",
      "Matrix:\n",
      "[[1 0 0 0 0]\n",
      " [0 1 0 0 0]\n",
      " [0 0 1 0 0]]\n"
     ]
    }
   ],
   "source": [
    "# two empty columns\n",
    "print_matrix(idx, 3, 5)"
   ]
  },
  {
   "cell_type": "code",
   "execution_count": 8,
   "metadata": {},
   "outputs": [
    {
     "name": "stdout",
     "output_type": "stream",
     "text": [
      "Sparsity Pattern:\n",
      "[(0, 0), (1, 1), (2, 2)]\n",
      "Matrix:\n",
      "[[1 0 0]\n",
      " [0 1 0]\n",
      " [0 0 1]\n",
      " [0 0 0]\n",
      " [0 0 0]]\n"
     ]
    }
   ],
   "source": [
    "# two empty rows\n",
    "print_matrix(idx, 5, 3)"
   ]
  },
  {
   "cell_type": "code",
   "execution_count": 9,
   "metadata": {},
   "outputs": [
    {
     "name": "stdout",
     "output_type": "stream",
     "text": [
      "Sparsity Pattern:\n",
      "[(0, 0), (1, 1), (2, 2)]\n",
      "Matrix:\n",
      "[[1 0 0 0]\n",
      " [0 1 0 0]\n",
      " [0 0 1 0]\n",
      " [0 0 0 0]]\n"
     ]
    }
   ],
   "source": [
    "# one row and one column is empty\n",
    "print_matrix(idx, 4, 4)"
   ]
  },
  {
   "cell_type": "markdown",
   "metadata": {},
   "source": [
    "# `'nodiag'` (Dense without diagonal elements)\n",
    "A dense matrix without the diagonal elements\n",
    "\n",
    "$$\n",
    "\\begin{bmatrix}\n",
    "0 & e_{12} & e_{13} & \\cdots & e_{1n}\\\\\n",
    "e_{21} & 0 & e_{23} & \\cdots & e_{2n}\\\\\n",
    "e_{31} & e_{32} & 0 & \\cdots & e_{3n}\\\\\n",
    "\\vdots & \\vdots & \\vdots & \\ddots & \\vdots\\\\\n",
    "e_{n1} & e_{n2} & e_{n3} & \\cdots & 0\\\\\n",
    "\\end{bmatrix}\n",
    "$$\n",
    "\n",
    "A sparse matrix could be a dense matrix without diagonal elements."
   ]
  },
  {
   "cell_type": "code",
   "execution_count": 10,
   "metadata": {},
   "outputs": [
    {
     "name": "stdout",
     "output_type": "stream",
     "text": [
      "Sparsity Pattern:\n",
      "[(0, 1), (0, 2), (0, 3), (1, 0), (1, 2), (1, 3), (2, 0), (2, 1), (2, 3), (3, 0), (3, 1), (3, 2)]\n",
      "Matrix:\n",
      "[[0 1 1 1]\n",
      " [1 0 1 1]\n",
      " [1 1 0 1]\n",
      " [1 1 1 0]]\n"
     ]
    }
   ],
   "source": [
    "idx = spat.get(\"nodiag\", 4)\n",
    "\n",
    "print_matrix(idx, 4, 4)"
   ]
  },
  {
   "cell_type": "code",
   "execution_count": 11,
   "metadata": {},
   "outputs": [
    {
     "name": "stdout",
     "output_type": "stream",
     "text": [
      "Sparsity Pattern:\n",
      "[(0, 1), (0, 2), (0, 3), (0, 4), (1, 0), (1, 2), (1, 3), (1, 4), (2, 0), (2, 1), (2, 3), (2, 4)]\n",
      "Matrix:\n",
      "[[0 1 1 1 1]\n",
      " [1 0 1 1 1]\n",
      " [1 1 0 1 1]]\n"
     ]
    }
   ],
   "source": [
    "idx = spat.get(\"nodiag\", 3, 5)\n",
    "\n",
    "print_matrix(idx, 3, 5)"
   ]
  },
  {
   "cell_type": "code",
   "execution_count": 12,
   "metadata": {},
   "outputs": [
    {
     "name": "stdout",
     "output_type": "stream",
     "text": [
      "Sparsity Pattern:\n",
      "[(0, 1), (0, 2), (1, 0), (1, 2), (2, 0), (2, 1), (3, 0), (3, 1), (3, 2), (4, 0), (4, 1), (4, 2)]\n",
      "Matrix:\n",
      "[[0 1 1]\n",
      " [1 0 1]\n",
      " [1 1 0]\n",
      " [1 1 1]\n",
      " [1 1 1]]\n"
     ]
    }
   ],
   "source": [
    "idx = spat.get(\"nodiag\", 5, 3)\n",
    "\n",
    "print_matrix(idx, 5, 3)"
   ]
  },
  {
   "cell_type": "markdown",
   "metadata": {},
   "source": [
    "# `'block'` (Block-diagonal elements only)\n",
    "Block-diagonal matrices should be quadratic, and the matrix dimension should be a multiple of the block size."
   ]
  },
  {
   "cell_type": "code",
   "execution_count": 13,
   "metadata": {},
   "outputs": [
    {
     "name": "stdout",
     "output_type": "stream",
     "text": [
      "Sparsity Pattern:\n",
      "[(0, 0), (0, 1), (1, 0), (1, 1), (2, 2), (2, 3), (3, 2), (3, 3), (4, 4), (4, 5), (5, 4), (5, 5)]\n",
      "Matrix:\n",
      "[[1 1 0 0 0 0]\n",
      " [1 1 0 0 0 0]\n",
      " [0 0 1 1 0 0]\n",
      " [0 0 1 1 0 0]\n",
      " [0 0 0 0 1 1]\n",
      " [0 0 0 0 1 1]]\n"
     ]
    }
   ],
   "source": [
    "n_block_size = 2\n",
    "n_matrix_size = n_block_size * 3\n",
    "\n",
    "idx = spat.get('block', n_matrix_size, n_block_size)\n",
    "\n",
    "print_matrix(idx, n_matrix_size, n_matrix_size)"
   ]
  },
  {
   "cell_type": "markdown",
   "metadata": {},
   "source": [
    "Like with `diag`, we can increase the matrix size with the result that full rows and/or columns are empty, e.g., "
   ]
  },
  {
   "cell_type": "code",
   "execution_count": 14,
   "metadata": {},
   "outputs": [
    {
     "name": "stdout",
     "output_type": "stream",
     "text": [
      "Sparsity Pattern:\n",
      "[(0, 0), (0, 1), (1, 0), (1, 1), (2, 2), (2, 3), (3, 2), (3, 3), (4, 4), (4, 5), (5, 4), (5, 5)]\n",
      "Matrix:\n",
      "[[1 1 0 0 0 0 0 0 0]\n",
      " [1 1 0 0 0 0 0 0 0]\n",
      " [0 0 1 1 0 0 0 0 0]\n",
      " [0 0 1 1 0 0 0 0 0]\n",
      " [0 0 0 0 1 1 0 0 0]\n",
      " [0 0 0 0 1 1 0 0 0]]\n"
     ]
    }
   ],
   "source": [
    "print_matrix(idx, n_matrix_size, n_matrix_size + 3)"
   ]
  },
  {
   "cell_type": "markdown",
   "metadata": {},
   "source": [
    "Our algorithms allows not perfect splits, e.g., a 5x5 matrix has only space for two 2x2 blocks so that the last block is adjusted to an 1x1 block."
   ]
  },
  {
   "cell_type": "code",
   "execution_count": 15,
   "metadata": {},
   "outputs": [
    {
     "name": "stdout",
     "output_type": "stream",
     "text": [
      "Sparsity Pattern:\n",
      "[(0, 0), (0, 1), (1, 0), (1, 1), (2, 2), (2, 3), (3, 2), (3, 3), (4, 4)]\n",
      "Matrix:\n",
      "[[1 1 0 0 0]\n",
      " [1 1 0 0 0]\n",
      " [0 0 1 1 0]\n",
      " [0 0 1 1 0]\n",
      " [0 0 0 0 1]]\n"
     ]
    }
   ],
   "source": [
    "n_block_size = 2\n",
    "n_matrix_size = 5\n",
    "\n",
    "idx = spat.get('block', n_matrix_size, n_block_size)\n",
    "\n",
    "print_matrix(idx, n_matrix_size, n_matrix_size)"
   ]
  },
  {
   "cell_type": "markdown",
   "metadata": {},
   "source": [
    "The adjustment will be the next biggest block"
   ]
  },
  {
   "cell_type": "code",
   "execution_count": 16,
   "metadata": {},
   "outputs": [
    {
     "name": "stdout",
     "output_type": "stream",
     "text": [
      "Sparsity Pattern:\n",
      "[(0, 0), (0, 1), (0, 2), (1, 0), (1, 1), (1, 2), (2, 0), (2, 1), (2, 2), (3, 3), (3, 4), (4, 3), (4, 4)]\n",
      "Matrix:\n",
      "[[1 1 1 0 0]\n",
      " [1 1 1 0 0]\n",
      " [1 1 1 0 0]\n",
      " [0 0 0 1 1]\n",
      " [0 0 0 1 1]]\n"
     ]
    }
   ],
   "source": [
    "n_block_size = 3\n",
    "n_matrix_size = 5\n",
    "\n",
    "idx = spat.get('block', n_matrix_size, n_block_size)\n",
    "\n",
    "print_matrix(idx, n_matrix_size, n_matrix_size)"
   ]
  },
  {
   "cell_type": "markdown",
   "metadata": {},
   "source": [
    "We can also create different block sizes"
   ]
  },
  {
   "cell_type": "code",
   "execution_count": 17,
   "metadata": {},
   "outputs": [
    {
     "name": "stdout",
     "output_type": "stream",
     "text": [
      "Sparsity Pattern:\n",
      "[(0, 0), (0, 1), (0, 2), (1, 0), (1, 1), (1, 2), (2, 0), (2, 1), (2, 2), (3, 3), (4, 4), (4, 5), (5, 4), (5, 5), (6, 6), (6, 7), (6, 8), (7, 6), (7, 7), (7, 8), (8, 6), (8, 7), (8, 8), (9, 9)]\n",
      "Matrix:\n",
      "[[1 1 1 0 0 0 0 0 0 0]\n",
      " [1 1 1 0 0 0 0 0 0 0]\n",
      " [1 1 1 0 0 0 0 0 0 0]\n",
      " [0 0 0 1 0 0 0 0 0 0]\n",
      " [0 0 0 0 1 1 0 0 0 0]\n",
      " [0 0 0 0 1 1 0 0 0 0]\n",
      " [0 0 0 0 0 0 1 1 1 0]\n",
      " [0 0 0 0 0 0 1 1 1 0]\n",
      " [0 0 0 0 0 0 1 1 1 0]\n",
      " [0 0 0 0 0 0 0 0 0 1]]\n"
     ]
    }
   ],
   "source": [
    "n_block_sizes = [3, 1, 2]\n",
    "n_matrix_size = 10\n",
    "\n",
    "idx = spat.get('block', n_matrix_size, n_block_sizes)\n",
    "\n",
    "print_matrix(idx, n_matrix_size, n_matrix_size)"
   ]
  },
  {
   "cell_type": "markdown",
   "metadata": {},
   "source": [
    "# `'circle'`\n",
    "The name of this sparsity pattern has the following idea."
   ]
  },
  {
   "cell_type": "code",
   "execution_count": 18,
   "metadata": {},
   "outputs": [
    {
     "name": "stdout",
     "output_type": "stream",
     "text": [
      "Sparsity Pattern:\n",
      "[(0, 3), (1, 0), (2, 1), (3, 2)]\n",
      "Matrix:\n",
      "[[0 0 0 1]\n",
      " [1 0 0 0]\n",
      " [0 1 0 0]\n",
      " [0 0 1 0]]\n"
     ]
    }
   ],
   "source": [
    "idx = spat.get('circle', 4)\n",
    "\n",
    "print_matrix(idx, 4, 4)"
   ]
  },
  {
   "cell_type": "markdown",
   "metadata": {},
   "source": [
    "If we multiply the sparse matrix $W$ with a vector $s_1=(1, 0, 0, 0)$,\n",
    "the next state would be $s_2=(0, 1, 0, 0)$,\n",
    "$s_3=(0, 0, 1, 0)$, $s_4=(0, 0, 0, 1)$, and finally $s_{1+4}=(1, 0, 0, 0)$.\n",
    "In other word, the information travelled full circle back to its origin."
   ]
  },
  {
   "cell_type": "markdown",
   "metadata": {},
   "source": [
    "We can add more offsets (i.e., the information would travel faster)"
   ]
  },
  {
   "cell_type": "code",
   "execution_count": 19,
   "metadata": {},
   "outputs": [
    {
     "name": "stdout",
     "output_type": "stream",
     "text": [
      "Sparsity Pattern:\n",
      "[(0, 2), (0, 3), (1, 0), (1, 3), (2, 0), (2, 1), (3, 1), (3, 2)]\n",
      "Matrix:\n",
      "[[0 0 1 1]\n",
      " [1 0 0 1]\n",
      " [1 1 0 0]\n",
      " [0 1 1 0]]\n"
     ]
    }
   ],
   "source": [
    "idx = spat.get('circle', 4, offsets=[1, 2])\n",
    "\n",
    "print_matrix(idx, 4, 4)"
   ]
  },
  {
   "cell_type": "markdown",
   "metadata": {},
   "source": [
    "If the number of offsets is $n-1$, `'circle'` is equivalent to the quadratic `'nodiag'`"
   ]
  },
  {
   "cell_type": "code",
   "execution_count": 20,
   "metadata": {},
   "outputs": [
    {
     "name": "stdout",
     "output_type": "stream",
     "text": [
      "Sparsity Pattern:\n",
      "[(0, 1), (0, 2), (0, 3), (1, 0), (1, 2), (1, 3), (2, 0), (2, 1), (2, 3), (3, 0), (3, 1), (3, 2)]\n",
      "Matrix:\n",
      "[[0 1 1 1]\n",
      " [1 0 1 1]\n",
      " [1 1 0 1]\n",
      " [1 1 1 0]]\n"
     ]
    }
   ],
   "source": [
    "idx = spat.get('circle', n=4, offsets=[1, 2, 3])\n",
    "\n",
    "print_matrix(idx, 4, 4)"
   ]
  },
  {
   "cell_type": "markdown",
   "metadata": {},
   "source": [
    "The circle pattern is quadratic (like `'diag'`) and using a bigger matrix would lead to empty rows and/or columns"
   ]
  },
  {
   "cell_type": "code",
   "execution_count": 21,
   "metadata": {},
   "outputs": [
    {
     "name": "stdout",
     "output_type": "stream",
     "text": [
      "Sparsity Pattern:\n",
      "[(0, 2), (0, 3), (1, 0), (1, 3), (2, 0), (2, 1), (3, 1), (3, 2)]\n",
      "Matrix:\n",
      "[[0 0 1 1 0 0]\n",
      " [1 0 0 1 0 0]\n",
      " [1 1 0 0 0 0]\n",
      " [0 1 1 0 0 0]]\n"
     ]
    }
   ],
   "source": [
    "idx = spat.get('circle', 4, offsets=[1, 2])\n",
    "\n",
    "print_matrix(idx, 4, 6)"
   ]
  },
  {
   "cell_type": "markdown",
   "metadata": {},
   "source": [
    "# `'tril'` and `'triu'`"
   ]
  },
  {
   "cell_type": "markdown",
   "metadata": {},
   "source": [
    "`triu` only has elements in the upper triangle of a quadratic matrix."
   ]
  },
  {
   "cell_type": "code",
   "execution_count": 22,
   "metadata": {},
   "outputs": [
    {
     "name": "stdout",
     "output_type": "stream",
     "text": [
      "Sparsity Pattern:\n",
      "[(0, 0), (0, 1), (0, 2), (0, 3), (1, 1), (1, 2), (1, 3), (2, 2), (2, 3), (3, 3)]\n",
      "Matrix:\n",
      "[[1 1 1 1]\n",
      " [0 1 1 1]\n",
      " [0 0 1 1]\n",
      " [0 0 0 1]]\n"
     ]
    }
   ],
   "source": [
    "idx = spat.get('triu', n=4, k=0)\n",
    "\n",
    "print_matrix(idx, 4, 4)"
   ]
  },
  {
   "cell_type": "markdown",
   "metadata": {},
   "source": [
    "`tril` is basically the transposed version of `triu`, vice versa."
   ]
  },
  {
   "cell_type": "code",
   "execution_count": 23,
   "metadata": {},
   "outputs": [
    {
     "name": "stdout",
     "output_type": "stream",
     "text": [
      "Sparsity Pattern:\n",
      "[(0, 0), (1, 0), (1, 1), (2, 0), (2, 1), (2, 2), (3, 0), (3, 1), (3, 2), (3, 3)]\n",
      "Matrix:\n",
      "[[1 0 0 0]\n",
      " [1 1 0 0]\n",
      " [1 1 1 0]\n",
      " [1 1 1 1]]\n"
     ]
    }
   ],
   "source": [
    "idx = spat.get('tril', n=4, k=0)\n",
    "\n",
    "print_matrix(idx, 4, 4)"
   ]
  },
  {
   "cell_type": "markdown",
   "metadata": {},
   "source": [
    "Usually we use negative `k<0` offsets to make the triangle smaller"
   ]
  },
  {
   "cell_type": "code",
   "execution_count": 24,
   "metadata": {},
   "outputs": [
    {
     "name": "stdout",
     "output_type": "stream",
     "text": [
      "Sparsity Pattern:\n",
      "[(1, 0), (2, 0), (2, 1), (3, 0), (3, 1), (3, 2)]\n",
      "Matrix:\n",
      "[[0 0 0 0]\n",
      " [1 0 0 0]\n",
      " [1 1 0 0]\n",
      " [1 1 1 0]]\n"
     ]
    }
   ],
   "source": [
    "idx = spat.get('tril', 4, -1)\n",
    "\n",
    "print_matrix(idx, 4, 4)"
   ]
  },
  {
   "cell_type": "markdown",
   "metadata": {},
   "source": [
    "Positive offsets `k>0` to achieve the opposite effect."
   ]
  },
  {
   "cell_type": "code",
   "execution_count": 25,
   "metadata": {},
   "outputs": [
    {
     "name": "stdout",
     "output_type": "stream",
     "text": [
      "Sparsity Pattern:\n",
      "[(0, 0), (0, 1), (1, 0), (1, 1), (1, 2), (2, 0), (2, 1), (2, 2), (2, 3), (3, 0), (3, 1), (3, 2), (3, 3)]\n",
      "Matrix:\n",
      "[[1 1 0 0]\n",
      " [1 1 1 0]\n",
      " [1 1 1 1]\n",
      " [1 1 1 1]]\n"
     ]
    }
   ],
   "source": [
    "idx = spat.get('tril', 4, 1)\n",
    "\n",
    "print_matrix(idx, 4, 4)"
   ]
  },
  {
   "cell_type": "code",
   "execution_count": null,
   "metadata": {},
   "outputs": [],
   "source": []
  }
 ],
 "metadata": {
  "kernelspec": {
   "display_name": "Python 3",
   "language": "python",
   "name": "python3"
  },
  "language_info": {
   "codemirror_mode": {
    "name": "ipython",
    "version": 3
   },
   "file_extension": ".py",
   "mimetype": "text/x-python",
   "name": "python",
   "nbconvert_exporter": "python",
   "pygments_lexer": "ipython3",
   "version": "3.6.3"
  },
  "toc": {
   "base_numbering": 1,
   "nav_menu": {},
   "number_sections": true,
   "sideBar": true,
   "skip_h1_title": false,
   "title_cell": "Table of Contents",
   "title_sidebar": "Contents",
   "toc_cell": false,
   "toc_position": {},
   "toc_section_display": true,
   "toc_window_display": false
  },
  "varInspector": {
   "cols": {
    "lenName": 16,
    "lenType": 16,
    "lenVar": 40
   },
   "kernels_config": {
    "python": {
     "delete_cmd_postfix": "",
     "delete_cmd_prefix": "del ",
     "library": "var_list.py",
     "varRefreshCmd": "print(var_dic_list())"
    },
    "r": {
     "delete_cmd_postfix": ") ",
     "delete_cmd_prefix": "rm(",
     "library": "var_list.r",
     "varRefreshCmd": "cat(var_dic_list()) "
    }
   },
   "types_to_exclude": [
    "module",
    "function",
    "builtin_function_or_method",
    "instance",
    "_Feature"
   ],
   "window_display": false
  }
 },
 "nbformat": 4,
 "nbformat_minor": 4
}
