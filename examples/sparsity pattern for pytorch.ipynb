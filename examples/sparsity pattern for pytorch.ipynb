{
 "cells": [
  {
   "cell_type": "code",
   "execution_count": 1,
   "metadata": {},
   "outputs": [],
   "source": [
    "import sys\n",
    "sys.path.append('..')"
   ]
  },
  {
   "cell_type": "code",
   "execution_count": 2,
   "metadata": {},
   "outputs": [],
   "source": [
    "import sparsity_pattern as spat\n",
    "import torch"
   ]
  },
  {
   "cell_type": "markdown",
   "metadata": {},
   "source": [
    "# Step 1\n",
    "We want to create 10x12 matrix"
   ]
  },
  {
   "cell_type": "code",
   "execution_count": 3,
   "metadata": {},
   "outputs": [],
   "source": [
    "n_rows, n_cols = 10, 12"
   ]
  },
  {
   "cell_type": "markdown",
   "metadata": {},
   "source": [
    "Let's use the `'nodiag`' pattern"
   ]
  },
  {
   "cell_type": "code",
   "execution_count": 4,
   "metadata": {},
   "outputs": [
    {
     "name": "stdout",
     "output_type": "stream",
     "text": [
      "Sparsity Pattern:\n",
      "[(0, 1), (0, 2), (0, 3), (0, 4), (0, 5), (0, 6), (0, 7), (0, 8), (0, 9), (1, 0), (1, 2), (1, 3), (1, 4), (1, 5), (1, 6), (1, 7), (1, 8), (1, 9), (2, 0), (2, 1), (2, 3), (2, 4), (2, 5), (2, 6), (2, 7), (2, 8), (2, 9), (3, 0), (3, 1), (3, 2), (3, 4), (3, 5), (3, 6), (3, 7), (3, 8), (3, 9), (4, 0), (4, 1), (4, 2), (4, 3), (4, 5), (4, 6), (4, 7), (4, 8), (4, 9), (5, 0), (5, 1), (5, 2), (5, 3), (5, 4), (5, 6), (5, 7), (5, 8), (5, 9), (6, 0), (6, 1), (6, 2), (6, 3), (6, 4), (6, 5), (6, 7), (6, 8), (6, 9), (7, 0), (7, 1), (7, 2), (7, 3), (7, 4), (7, 5), (7, 6), (7, 8), (7, 9), (8, 0), (8, 1), (8, 2), (8, 3), (8, 4), (8, 5), (8, 6), (8, 7), (8, 9), (9, 0), (9, 1), (9, 2), (9, 3), (9, 4), (9, 5), (9, 6), (9, 7), (9, 8)]\n",
      "Number of elements: 90\n"
     ]
    }
   ],
   "source": [
    "n_dim = min(n_rows, n_cols)\n",
    "idx = spat.get('nodiag', n_dim)\n",
    "\n",
    "print(\"Sparsity Pattern:\")\n",
    "print(idx)\n",
    "\n",
    "n_elements = len(idx)\n",
    "print(f\"Number of elements: {n_elements}\")"
   ]
  },
  {
   "cell_type": "markdown",
   "metadata": {},
   "source": [
    "# Step 2"
   ]
  },
  {
   "cell_type": "code",
   "execution_count": 5,
   "metadata": {},
   "outputs": [
    {
     "name": "stdout",
     "output_type": "stream",
     "text": [
      "tensor([[ 0,  1,  2,  3,  4,  5,  6,  7,  8,  9,  0,  0],\n",
      "        [10,  0, 11, 12, 13, 14, 15, 16, 17, 18,  0,  0],\n",
      "        [19, 20,  0, 21, 22, 23, 24, 25, 26, 27,  0,  0],\n",
      "        [28, 29, 30,  0, 31, 32, 33, 34, 35, 36,  0,  0],\n",
      "        [37, 38, 39, 40,  0, 41, 42, 43, 44, 45,  0,  0],\n",
      "        [46, 47, 48, 49, 50,  0, 51, 52, 53, 54,  0,  0],\n",
      "        [55, 56, 57, 58, 59, 60,  0, 61, 62, 63,  0,  0],\n",
      "        [64, 65, 66, 67, 68, 69, 70,  0, 71, 72,  0,  0],\n",
      "        [73, 74, 75, 76, 77, 78, 79, 80,  0, 81,  0,  0],\n",
      "        [82, 83, 84, 85, 86, 87, 88, 89, 90,  0,  0,  0]])\n"
     ]
    }
   ],
   "source": [
    "mat = torch.sparse_coo_tensor(\n",
    "    indices=torch.tensor(idx).transpose(0, 1), \n",
    "    values=range(1, n_elements+1),\n",
    "    size=[n_rows, n_cols])\n",
    "\n",
    "print(mat.to_dense())"
   ]
  },
  {
   "cell_type": "code",
   "execution_count": null,
   "metadata": {},
   "outputs": [],
   "source": []
  }
 ],
 "metadata": {
  "kernelspec": {
   "display_name": "Python 3",
   "language": "python",
   "name": "python3"
  },
  "language_info": {
   "codemirror_mode": {
    "name": "ipython",
    "version": 3
   },
   "file_extension": ".py",
   "mimetype": "text/x-python",
   "name": "python",
   "nbconvert_exporter": "python",
   "pygments_lexer": "ipython3",
   "version": "3.6.3"
  }
 },
 "nbformat": 4,
 "nbformat_minor": 4
}
