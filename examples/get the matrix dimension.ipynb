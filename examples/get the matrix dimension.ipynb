{
 "cells": [
  {
   "cell_type": "markdown",
   "metadata": {},
   "source": [
    "# Determine the matrix dimension for a given number of matrix elements"
   ]
  },
  {
   "cell_type": "code",
   "execution_count": 1,
   "metadata": {},
   "outputs": [],
   "source": [
    "import sys\n",
    "sys.path.append('..')"
   ]
  },
  {
   "cell_type": "code",
   "execution_count": 2,
   "metadata": {},
   "outputs": [],
   "source": [
    "import sparsity_pattern as spat\n",
    "import math"
   ]
  },
  {
   "cell_type": "code",
   "execution_count": 3,
   "metadata": {},
   "outputs": [],
   "source": [
    "import scipy.sparse\n",
    "import numpy as np\n",
    "from typing import List\n",
    "\n",
    "def print_matrix(pat: List[List[int]], n_rows, n_cols):\n",
    "    # convert to matrix\n",
    "    mat = scipy.sparse.lil_matrix((n_rows, n_cols), dtype=np.int64)\n",
    "    idx_rows, idx_cols = np.array(pat)[:, 0], np.array(pat)[:, 1]\n",
    "    mat[idx_rows, idx_cols] = 1\n",
    "    # print\n",
    "    print(\"Sparsity Pattern:\")\n",
    "    print(pat)\n",
    "    print(\"Matrix:\")\n",
    "    print(mat.todense())"
   ]
  },
  {
   "cell_type": "markdown",
   "metadata": {},
   "source": [
    "# `'circle'` pattern\n",
    "The matrix dimension `n` and the number of `offsets` determine the number of matrix elements for a quadratic sparse matrix with 'circle' pattern.\n",
    "If the number of matrix elements `n_max_params` is given, the `get_matrix_dims_circle` function searches for hyperparameter combinations (n, offsets) that result in circle patterns with exactly or slightly less than `n_max_params` matrix elements."
   ]
  },
  {
   "cell_type": "markdown",
   "metadata": {},
   "source": [
    "### How to use `get_matrix_dims_circle`\n",
    "The function `get_matrix_dims_circle` returns a list of dict."
   ]
  },
  {
   "cell_type": "code",
   "execution_count": 4,
   "metadata": {},
   "outputs": [
    {
     "data": {
      "text/plain": [
       "[{'n': 50, 'offsets': [1]},\n",
       " {'n': 25, 'offsets': [1, 2]},\n",
       " {'n': 16, 'offsets': [1, 2, 3]},\n",
       " {'n': 12, 'offsets': [1, 2, 3, 4]},\n",
       " {'n': 10, 'offsets': [1, 2, 3, 4, 5]},\n",
       " {'n': 8, 'offsets': [1, 2, 3, 4, 5, 6]}]"
      ]
     },
     "execution_count": 4,
     "metadata": {},
     "output_type": "execute_result"
    }
   ],
   "source": [
    "n_max_params = 50\n",
    "hyperparams = spat.utils.get_matrix_dims_circle(n_max_params)\n",
    "hyperparams"
   ]
  },
  {
   "cell_type": "markdown",
   "metadata": {},
   "source": [
    "Each dict is a feasible combination of a matrix dimension and offsets for the 'circle' pattern."
   ]
  },
  {
   "cell_type": "code",
   "execution_count": 5,
   "metadata": {},
   "outputs": [
    {
     "name": "stdout",
     "output_type": "stream",
     "text": [
      "Sparsity Pattern:\n",
      "[(0, 8), (0, 9), (0, 10), (0, 11), (1, 0), (1, 9), (1, 10), (1, 11), (2, 0), (2, 1), (2, 10), (2, 11), (3, 0), (3, 1), (3, 2), (3, 11), (4, 0), (4, 1), (4, 2), (4, 3), (5, 1), (5, 2), (5, 3), (5, 4), (6, 2), (6, 3), (6, 4), (6, 5), (7, 3), (7, 4), (7, 5), (7, 6), (8, 4), (8, 5), (8, 6), (8, 7), (9, 5), (9, 6), (9, 7), (9, 8), (10, 6), (10, 7), (10, 8), (10, 9), (11, 7), (11, 8), (11, 9), (11, 10)]\n",
      "Matrix:\n",
      "[[0 0 0 0 0 0 0 0 1 1 1 1]\n",
      " [1 0 0 0 0 0 0 0 0 1 1 1]\n",
      " [1 1 0 0 0 0 0 0 0 0 1 1]\n",
      " [1 1 1 0 0 0 0 0 0 0 0 1]\n",
      " [1 1 1 1 0 0 0 0 0 0 0 0]\n",
      " [0 1 1 1 1 0 0 0 0 0 0 0]\n",
      " [0 0 1 1 1 1 0 0 0 0 0 0]\n",
      " [0 0 0 1 1 1 1 0 0 0 0 0]\n",
      " [0 0 0 0 1 1 1 1 0 0 0 0]\n",
      " [0 0 0 0 0 1 1 1 1 0 0 0]\n",
      " [0 0 0 0 0 0 1 1 1 1 0 0]\n",
      " [0 0 0 0 0 0 0 1 1 1 1 0]]\n"
     ]
    }
   ],
   "source": [
    "pat = spat.get(\"circle\", **hyperparams[3])\n",
    "\n",
    "n_dim = hyperparams[3]['n']\n",
    "print_matrix(pat, n_dim, n_dim)"
   ]
  },
  {
   "cell_type": "markdown",
   "metadata": {},
   "source": [
    "### How does it work?\n",
    "Assume we want to squeeze up to `n_max_params` weights into a quadratic sparse matrix with 'circle' pattern."
   ]
  },
  {
   "cell_type": "code",
   "execution_count": 6,
   "metadata": {},
   "outputs": [],
   "source": [
    "n_max_params = 50"
   ]
  },
  {
   "cell_type": "markdown",
   "metadata": {},
   "source": [
    "The square root `int(sqr(n_max_params))` is the first smallest matrix dimension `n_min_dim` that can hold most of the desired `n_max_params` of weights. However, we need to subtract `-1` because the diagonals are assumed to be 0. `n_min_dim` is also the the maximum number of offsets we can squeeze into such a matrix."
   ]
  },
  {
   "cell_type": "code",
   "execution_count": 7,
   "metadata": {},
   "outputs": [],
   "source": [
    "n_min_dim = int(math.sqrt(n_max_params)) - 1"
   ]
  },
  {
   "cell_type": "markdown",
   "metadata": {},
   "source": [
    "We loop over `n_offsets = [1, 2, .. n_min_dim]`.\n",
    "The matrix dimension `n_dim` for the desired number of weights `n_max_params` and number of offsets `n_offsets` is `int(n_max_params / n_offsets)`."
   ]
  },
  {
   "cell_type": "code",
   "execution_count": 8,
   "metadata": {},
   "outputs": [
    {
     "name": "stdout",
     "output_type": "stream",
     "text": [
      "{'n_dim': 50, 'offsets': [1], 'n_act_params': 50, 'ratio_squeezed': 1.0}\n",
      "{'n_dim': 25, 'offsets': [1, 2], 'n_act_params': 50, 'ratio_squeezed': 1.0}\n",
      "{'n_dim': 16, 'offsets': [1, 2, 3], 'n_act_params': 48, 'ratio_squeezed': 0.96}\n",
      "{'n_dim': 12, 'offsets': [1, 2, 3, 4], 'n_act_params': 48, 'ratio_squeezed': 0.96}\n",
      "{'n_dim': 10, 'offsets': [1, 2, 3, 4, 5], 'n_act_params': 50, 'ratio_squeezed': 1.0}\n",
      "{'n_dim': 8, 'offsets': [1, 2, 3, 4, 5, 6], 'n_act_params': 48, 'ratio_squeezed': 0.96}\n"
     ]
    }
   ],
   "source": [
    "for n_offsets in range(1, n_min_dim+1):\n",
    "    n_dim = n_max_params // n_offsets    \n",
    "    result = {\"n_dim\": n_dim, \"offsets\": list(range(1, n_offsets + 1))}\n",
    "    \n",
    "    # add more information\n",
    "    if True:\n",
    "        pat = spat.get(\"circle\", n_dim, range(1, n_offsets + 1))\n",
    "        n_act_params = len(pat)\n",
    "        result = {**result, \"n_act_params\": n_act_params, \"ratio_squeezed\": n_act_params / n_max_params}\n",
    "    print(result)"
   ]
  },
  {
   "cell_type": "code",
   "execution_count": null,
   "metadata": {},
   "outputs": [],
   "source": []
  }
 ],
 "metadata": {
  "kernelspec": {
   "display_name": "Python 3",
   "language": "python",
   "name": "python3"
  },
  "language_info": {
   "codemirror_mode": {
    "name": "ipython",
    "version": 3
   },
   "file_extension": ".py",
   "mimetype": "text/x-python",
   "name": "python",
   "nbconvert_exporter": "python",
   "pygments_lexer": "ipython3",
   "version": "3.6.3"
  }
 },
 "nbformat": 4,
 "nbformat_minor": 4
}
