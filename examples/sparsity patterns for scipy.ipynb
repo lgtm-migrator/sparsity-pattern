{
 "cells": [
  {
   "cell_type": "code",
   "execution_count": 1,
   "metadata": {},
   "outputs": [],
   "source": [
    "import sys\n",
    "sys.path.append('..')"
   ]
  },
  {
   "cell_type": "code",
   "execution_count": 2,
   "metadata": {},
   "outputs": [],
   "source": [
    "import sparsity_pattern as spat\n",
    "import scipy.sparse\n",
    "import numpy as np"
   ]
  },
  {
   "cell_type": "markdown",
   "metadata": {},
   "source": [
    "# Step 1\n",
    "We want to create 10x12 matrix"
   ]
  },
  {
   "cell_type": "code",
   "execution_count": 3,
   "metadata": {},
   "outputs": [],
   "source": [
    "n_rows, n_cols = 10, 12"
   ]
  },
  {
   "cell_type": "markdown",
   "metadata": {},
   "source": [
    "Let's create sparsity pattern, e.g., for a block-diagonal matrix"
   ]
  },
  {
   "cell_type": "code",
   "execution_count": 4,
   "metadata": {},
   "outputs": [
    {
     "name": "stdout",
     "output_type": "stream",
     "text": [
      "Sparsity Pattern:\n",
      "[(0, 0), (0, 1), (0, 2), (1, 0), (1, 1), (1, 2), (2, 0), (2, 1), (2, 2), (3, 3), (4, 4), (4, 5), (5, 4), (5, 5), (6, 6), (6, 7), (6, 8), (7, 6), (7, 7), (7, 8), (8, 6), (8, 7), (8, 8), (9, 9)]\n",
      "Number of elements: 24\n"
     ]
    }
   ],
   "source": [
    "n_block_sizes = [3, 1, 2]\n",
    "n_matrix_size = min(n_rows, n_cols)\n",
    "idx = spat.get('block', n_matrix_size, n_block_sizes)\n",
    "\n",
    "print(\"Sparsity Pattern:\")\n",
    "print(idx)\n",
    "\n",
    "n_elements = len(idx)\n",
    "print(f\"Number of elements: {n_elements}\")"
   ]
  },
  {
   "cell_type": "markdown",
   "metadata": {},
   "source": [
    "# Step 2\n",
    "Create a 10x12 LIL matrix with scipy,\n",
    "and assign the values `[1, 2, .., 24]` to the sparse matrix."
   ]
  },
  {
   "cell_type": "code",
   "execution_count": 5,
   "metadata": {},
   "outputs": [
    {
     "data": {
      "text/plain": [
       "matrix([[ 1,  2,  3,  0,  0,  0,  0,  0,  0,  0,  0,  0],\n",
       "        [ 4,  5,  6,  0,  0,  0,  0,  0,  0,  0,  0,  0],\n",
       "        [ 7,  8,  9,  0,  0,  0,  0,  0,  0,  0,  0,  0],\n",
       "        [ 0,  0,  0, 10,  0,  0,  0,  0,  0,  0,  0,  0],\n",
       "        [ 0,  0,  0,  0, 11, 12,  0,  0,  0,  0,  0,  0],\n",
       "        [ 0,  0,  0,  0, 13, 14,  0,  0,  0,  0,  0,  0],\n",
       "        [ 0,  0,  0,  0,  0,  0, 15, 16, 17,  0,  0,  0],\n",
       "        [ 0,  0,  0,  0,  0,  0, 18, 19, 20,  0,  0,  0],\n",
       "        [ 0,  0,  0,  0,  0,  0, 21, 22, 23,  0,  0,  0],\n",
       "        [ 0,  0,  0,  0,  0,  0,  0,  0,  0, 24,  0,  0]])"
      ]
     },
     "execution_count": 5,
     "metadata": {},
     "output_type": "execute_result"
    }
   ],
   "source": [
    "idx = np.array(idx)\n",
    "idx_rows, idx_cols = idx[:, 0], idx[:, 1]\n",
    "\n",
    "mat = scipy.sparse.lil_matrix((n_rows, n_cols), dtype=np.int64)\n",
    "mat[idx_rows, idx_cols] = range(1, n_elements+1)\n",
    "\n",
    "mat.todense()"
   ]
  },
  {
   "cell_type": "code",
   "execution_count": null,
   "metadata": {},
   "outputs": [],
   "source": []
  }
 ],
 "metadata": {
  "kernelspec": {
   "display_name": "Python 3",
   "language": "python",
   "name": "python3"
  },
  "language_info": {
   "codemirror_mode": {
    "name": "ipython",
    "version": 3
   },
   "file_extension": ".py",
   "mimetype": "text/x-python",
   "name": "python",
   "nbconvert_exporter": "python",
   "pygments_lexer": "ipython3",
   "version": "3.6.3"
  }
 },
 "nbformat": 4,
 "nbformat_minor": 4
}
